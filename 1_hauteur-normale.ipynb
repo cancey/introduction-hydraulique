{
 "cells": [
  {
   "cell_type": "markdown",
   "id": "ff6b2283",
   "metadata": {},
   "source": [
    "# Calcul de la hauteur normale dans un canal"
   ]
  },
  {
   "cell_type": "code",
   "execution_count": 1,
   "id": "67930b19",
   "metadata": {},
   "outputs": [],
   "source": [
    "from IPython.display import display, Math, Latex"
   ]
  },
  {
   "cell_type": "markdown",
   "id": "0ef7c5b7",
   "metadata": {},
   "source": [
    "Par exemple, admettons que l'on doive calculer la hauteur normale dans un canal rectangulaire de largeur $B=2$ m, de pente $i=0{,}1$ %, de rugosité $K=40$ $\\mathrm{m}^{1/3}$/s, et pour un débit $Q_0=1$  $\\mathrm{m}^3$/s. On doit donc résoudre l'équation $Q(h_n)=Q_0$, soit encore :\n",
    "\n",
    "\\begin{equation}\n",
    "Q_0=K\\sqrt{i}Bh_n\\left(\\frac{Bh_n}{B+2h_n}\\right)^{2/3}.\n",
    "\\end{equation}\n",
    "\n",
    "Avec la fonction *fsolve*, on va voir ci-dessous que l'on trouve que $h_n=71$ cm ; on note que si l'on avait employé l'approximation pour les canaux larges $h_n=(Q/K/\\sqrt{i})^{3/5}$, on trouverait $h_n=57$ cm, ce qui montre qu'il ne faut employer cette approximation que pour des canaux suffisamment larges."
   ]
  },
  {
   "cell_type": "code",
   "execution_count": 4,
   "id": "071e2be4",
   "metadata": {},
   "outputs": [],
   "source": [
    "# initialisation\n",
    "import numpy as np\n",
    "import matplotlib.pyplot as plt\n",
    "\n",
    "from scipy.optimize import fsolve\n",
    "\n",
    "B=2; #largeur\n",
    "i=1/1000; #slope \n",
    "K=40; #coefficient de Strickler\n",
    "Q0=1; #débit\n",
    "\n",
    "Q = lambda h: K*(B*h/(B+2*h))**(2/3)*np.sqrt(i)*B*h-Q0"
   ]
  },
  {
   "cell_type": "markdown",
   "id": "0cce8ad4",
   "metadata": {},
   "source": [
    "## Résolution avec fsolve"
   ]
  },
  {
   "cell_type": "code",
   "execution_count": 5,
   "id": "ffc84964",
   "metadata": {},
   "outputs": [
    {
     "name": "stdout",
     "output_type": "stream",
     "text": [
      "hauteur normale 0.71 m\n",
      "hauteur normale approchée 0.57 m\n"
     ]
    }
   ],
   "source": [
    "sol=fsolve(Q, [0, 5])\n",
    "approx=(Q0/B/K/np.sqrt(i))**(3/5)\n",
    "print(f'hauteur normale {sol[0]:.2} m')\n",
    "print(f'hauteur normale approchée {approx:.2} m')\n",
    " "
   ]
  },
  {
   "cell_type": "markdown",
   "id": "5451908b",
   "metadata": {},
   "source": [
    "## Développement limité et méthode de la dichotomie"
   ]
  },
  {
   "cell_type": "markdown",
   "id": "b20e7a6f",
   "metadata": {},
   "source": [
    "En l'absence de solveur, on peut faire un développement limité. L'équation (1) peut se mettre sous la forme adimensionnelle\n",
    "\\begin{equation}\n",
    "\\left(\\frac{Q_0}{K\\sqrt{i}B^{8/3}}\\right)^{3/2}= \\frac{\\xi^{5/2}}{1+2\\xi},\n",
    "\\end{equation}\n",
    "avec $\\xi=h/B$. Si on néglige les effets de parois comme dans l'approximation de canal large, cela revient à dire que le dénominateur $1+2\\xi$ disparaît de l'équation (2), et dans ce cas-là, l'équation(2) devient plus facile à résoudre\n",
    "\\begin{equation}\n",
    "\\left(\\frac{Q_0}{K\\sqrt{i}B^{8/3}}\\right)^{3/2}=  \\xi^{5/2} \\Rightarrow \\xi=\\left(\\frac{Q_0}{K\\sqrt{i}B^{8/3}}\\right)^{3/5} = 0,286.\n",
    "\\end{equation}\n",
    "Cela correspond à la hauteur $h_n=B\\xi=57$ cm trouvée précédemment. Cherchons une correction au premier ordre en posant $\\xi=\\xi_0+\\epsilon$ où $\\xi_0$ est la valeur que l'on vient de déterminer ($\\xi=0{,}286$). Au premier ordre en $\\epsilon$, le terme de droite de l'équation \\eqref{eq:C5:debit-rectangle2} s'écrit\n",
    "$$\n",
    "\\frac{\\xi^{5/2}}{1+2\\xi}=\\frac{\\xi_0^{5/2}}{2 \\xi_0+1}+\\frac{\\left(6 \\xi_0^{5/2}+5 \\xi_0^{3/2}\\right) }{2 (2 \\xi_0+1)^2}\\epsilon = 0,0278  + 0,2078  \\epsilon.\n",
    "$${\n",
    "En substituant le membre de droite par cette approximation linéaire dans l'équation (2), on a une simple égalité à résoudre. On trouve $\\epsilon=0{,}077$, et donc $\\xi=0{,}286+0{,}077=0{,}363$. La hauteur normale approchée devient alors $h_n=B\\xi= 72{,}6$~cm, une valeur proche du résultat (71 cm). On  peut faire une nouvelle itération en considérant que l'on refait un développement limité à l'ordre 1, non plus en $\\xi=0{,}286$, mais en $\\xi=0,363$. On obtient $\\epsilon=-0{,}0078$, soit $h=71$ cm. En deux itérations, on est arrivé au résultat.\n",
    "\n",
    "L'inconvénient de cette méthode est qu'il y a du calcul algébrique à faire. On peut procéder purement numérique à l'aide de la méthode de la dichotomie. Cette méthode itérative consiste à avoir un encadrement de la solution $f(h)=Q(h)-Q_0=0$ en prenant deux bornes $a_0$ et $b_0$ de l'intervalle telles que $f(a_0)>0$ et $f(b_0)<0$ (ou réciproquement). On prend ensuite le milieu de cet intervalle $c_*=(a_0+b_0)/2$ et on calcule $f(c_*)$. Si $f(c_*)>0$, alors on pose $a_1=c_*$ et $b_1=b_0$ ; réciproquement, i $f(c_*)<0$, alors on pose $b_1=c_*$ et $a_1=a_0$. On itère $N$ fois. Ici on trouve $h_n=71$ cm au bout de $N=8$ itérations. La convergence est assez lente."
   ]
  },
  {
   "cell_type": "code",
   "execution_count": 6,
   "id": "8c87ba9a",
   "metadata": {},
   "outputs": [],
   "source": [
    "def dichotomie(f,a,b,N):\n",
    "    if f(a)*f(b) >= 0:\n",
    "        print(\"Echec : pas de 0 sur l'intervalle\")\n",
    "        return None\n",
    "    a_n = a\n",
    "    b_n = b\n",
    "    for n in range(1,N+1):\n",
    "        m_n = (a_n + b_n)/2\n",
    "        f_m_n = f(m_n)\n",
    "        if f(a_n)*f_m_n < 0:\n",
    "            a_n = a_n\n",
    "            b_n = m_n\n",
    "        elif f(b_n)*f_m_n < 0:\n",
    "            a_n = m_n\n",
    "            b_n = b_n\n",
    "        elif f_m_n == 0:\n",
    "            print(\"Solution exacte : \")\n",
    "            return m_n\n",
    "        else:\n",
    "            print(\"Échec !\")\n",
    "            return None\n",
    "    return (a_n + b_n)/2"
   ]
  },
  {
   "cell_type": "code",
   "execution_count": 7,
   "id": "5afbe1af",
   "metadata": {},
   "outputs": [
    {
     "data": {
      "text/plain": [
       "0.712890625"
      ]
     },
     "execution_count": 7,
     "metadata": {},
     "output_type": "execute_result"
    }
   ],
   "source": [
    "dichotomie(Q,0,5,8)"
   ]
  },
  {
   "cell_type": "markdown",
   "id": "f2ba519e",
   "metadata": {},
   "source": [
    "## Méthode de Newton"
   ]
  },
  {
   "cell_type": "markdown",
   "id": "e94d0abb",
   "metadata": {},
   "source": [
    "Pour résoudre $f(h)=Q(h)-Q_0=0$, nous pouvons aussi employer une méthode qui converge plus rapidement que la dichotomie : c'est la méthode de Newton. L'idée est de partir d'un point $h_0$ et, après avoir calculé la dérivée $f'(h)$, de rechercher l'intersection de la tangente $f(h_0)+(h-h_0)f'(h_0)$ à la courbe $f(h)$ avec l'axe des abscisses. On appelle $h_1$ ce point d'intersection. On itère la méthode :\n",
    "$$\n",
    "h_{k+1}=h_k-\\frac{f(h_k)}{f'(k)} .\n",
    "$$\n",
    "Si tout se passe bien, $h_k$ converge rapidement vers la hauteur normale. Ici, on trouve la bonne solution en trois itérations  quand on prend $h_0=25$ cm."
   ]
  },
  {
   "cell_type": "code",
   "execution_count": 10,
   "id": "93514c39",
   "metadata": {},
   "outputs": [],
   "source": [
    "def newton(f,Df,x0,epsilon,max_iter):\n",
    "\n",
    "    xn = x0\n",
    "    for n in range(0,max_iter):\n",
    "        fxn = f(xn)\n",
    "        if abs(fxn) < epsilon:\n",
    "            print('Solution trouvée en',n,'itérations.')\n",
    "            return xn\n",
    "        Dfxn = Df(xn)\n",
    "        if Dfxn == 0:\n",
    "            print('La dérivée est nulle. Pas de solution.')\n",
    "            return None\n",
    "        xn = xn - fxn/Dfxn\n",
    "    print(\"Nombre d'itérations dépassé. Pas de solution.\")\n",
    "    return None"
   ]
  },
  {
   "cell_type": "code",
   "execution_count": 11,
   "id": "20eee210",
   "metadata": {},
   "outputs": [
    {
     "name": "stdout",
     "output_type": "stream",
     "text": [
      "Solution trouvée en 4 itérations.\n"
     ]
    },
    {
     "data": {
      "text/plain": [
       "0.7101688215062145"
      ]
     },
     "execution_count": 11,
     "metadata": {},
     "output_type": "execute_result"
    }
   ],
   "source": [
    "dQ = lambda h: K*(B*h/(B+2*h))**(2/3)*np.sqrt(i)*B+2*B*h*np.sqrt(i)*K*(-2*B*h/(B+2*h)**2+B/(B+2*h))/3/(B*h/(B+2*h))**(1/3)\n",
    "newton(Q,dQ,.25,1e-8,10)"
   ]
  },
  {
   "cell_type": "code",
   "execution_count": null,
   "id": "0d039ba4",
   "metadata": {},
   "outputs": [],
   "source": []
  }
 ],
 "metadata": {
  "kernelspec": {
   "display_name": "python3.12",
   "language": "python",
   "name": "python3"
  },
  "language_info": {
   "codemirror_mode": {
    "name": "ipython",
    "version": 3
   },
   "file_extension": ".py",
   "mimetype": "text/x-python",
   "name": "python",
   "nbconvert_exporter": "python",
   "pygments_lexer": "ipython3",
   "version": "3.12.3"
  }
 },
 "nbformat": 4,
 "nbformat_minor": 5
}
