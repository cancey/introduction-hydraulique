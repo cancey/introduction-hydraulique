{
 "cells": [
  {
   "cell_type": "code",
   "execution_count": 34,
   "id": "2d68b173",
   "metadata": {},
   "outputs": [],
   "source": [
    "# initialisation\n",
    "import numpy as np\n",
    "import matplotlib.pyplot as plt\n",
    "\n",
    "from scipy.optimize import fsolve\n",
    "\n",
    "B=2; #largeur\n",
    "i=1/1000; #slope \n",
    "K=40; #coefficient de Strickler\n",
    "Q0=1; #débit\n",
    "\n",
    "Q = lambda h: K*(B*h/(B+2*h))**(2/3)*np.sqrt(i)*B*h-Q0\n",
    "\n",
    "\n",
    "\n"
   ]
  },
  {
   "cell_type": "code",
   "execution_count": 50,
   "id": "ffc84964",
   "metadata": {},
   "outputs": [
    {
     "name": "stdout",
     "output_type": "stream",
     "text": [
      "hauteur normale 0.71 m\n",
      "hauteur normale approchée 0.57 m\n"
     ]
    }
   ],
   "source": [
    "sol=fsolve(Q, [0, 5])\n",
    "approx=(Q0/B/K/np.sqrt(i))**(3/5)\n",
    "print(f'hauteur normale {sol[0]:.2} m')\n",
    "print(f'hauteur normale approchée {approx:.2} m')\n",
    " "
   ]
  },
  {
   "cell_type": "markdown",
   "id": "5451908b",
   "metadata": {},
   "source": [
    "## Méthode de la dichotomie"
   ]
  },
  {
   "cell_type": "code",
   "execution_count": 51,
   "id": "8c87ba9a",
   "metadata": {},
   "outputs": [],
   "source": [
    "def dichotomie(f,a,b,N):\n",
    "    if f(a)*f(b) >= 0:\n",
    "        print(\"Echec : pas de 0 sur l'intervalle\")\n",
    "        return None\n",
    "    a_n = a\n",
    "    b_n = b\n",
    "    for n in range(1,N+1):\n",
    "        m_n = (a_n + b_n)/2\n",
    "        f_m_n = f(m_n)\n",
    "        if f(a_n)*f_m_n < 0:\n",
    "            a_n = a_n\n",
    "            b_n = m_n\n",
    "        elif f(b_n)*f_m_n < 0:\n",
    "            a_n = m_n\n",
    "            b_n = b_n\n",
    "        elif f_m_n == 0:\n",
    "            print(\"Solution exacte : \")\n",
    "            return m_n\n",
    "        else:\n",
    "            print(\"Échec !\")\n",
    "            return None\n",
    "    return (a_n + b_n)/2"
   ]
  },
  {
   "cell_type": "code",
   "execution_count": 58,
   "id": "5afbe1af",
   "metadata": {},
   "outputs": [
    {
     "data": {
      "text/plain": [
       "0.712890625"
      ]
     },
     "execution_count": 58,
     "metadata": {},
     "output_type": "execute_result"
    }
   ],
   "source": [
    "dichotomie(Q,0,5,8)"
   ]
  },
  {
   "cell_type": "markdown",
   "id": "f2ba519e",
   "metadata": {},
   "source": [
    "## Méthode de Newton"
   ]
  },
  {
   "cell_type": "code",
   "execution_count": 42,
   "id": "93514c39",
   "metadata": {},
   "outputs": [],
   "source": [
    "def newton(f,Df,x0,epsilon,max_iter):\n",
    "\n",
    "    xn = x0\n",
    "    for n in range(0,max_iter):\n",
    "        fxn = f(xn)\n",
    "        if abs(fxn) < epsilon:\n",
    "            print('Solution trouvée en ',n,'itérations.')\n",
    "            return xn\n",
    "        Dfxn = Df(xn)\n",
    "        if Dfxn == 0:\n",
    "            print('La dérivée est nulle. Pas de solution.')\n",
    "            return None\n",
    "        xn = xn - fxn/Dfxn\n",
    "    print(\"Nombre d'itérations dépassé. Pas de solution.\")\n",
    "    return None"
   ]
  },
  {
   "cell_type": "code",
   "execution_count": 44,
   "id": "20eee210",
   "metadata": {},
   "outputs": [
    {
     "name": "stdout",
     "output_type": "stream",
     "text": [
      "Solution trouvée en  4 itérations.\n"
     ]
    },
    {
     "data": {
      "text/plain": [
       "0.7101688215062145"
      ]
     },
     "execution_count": 44,
     "metadata": {},
     "output_type": "execute_result"
    }
   ],
   "source": [
    "dQ = lambda h: K*(B*h/(B+2*h))**(2/3)*np.sqrt(i)*B+2*B*h*np.sqrt(i)*K*(-2*B*h/(B+2*h)**2+B/(B+2*h))/3/(B*h/(B+2*h))**(1/3)\n",
    "newton(Q,dQ,.25,1e-8,10)"
   ]
  },
  {
   "cell_type": "code",
   "execution_count": null,
   "id": "0d039ba4",
   "metadata": {},
   "outputs": [],
   "source": []
  }
 ],
 "metadata": {
  "kernelspec": {
   "display_name": "Python 3 (ipykernel)",
   "language": "python",
   "name": "python3"
  },
  "language_info": {
   "codemirror_mode": {
    "name": "ipython",
    "version": 3
   },
   "file_extension": ".py",
   "mimetype": "text/x-python",
   "name": "python",
   "nbconvert_exporter": "python",
   "pygments_lexer": "ipython3",
   "version": "3.9.12"
  }
 },
 "nbformat": 4,
 "nbformat_minor": 5
}
