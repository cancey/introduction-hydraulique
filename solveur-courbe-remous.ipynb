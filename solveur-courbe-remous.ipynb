{
 "cells": [
  {
   "cell_type": "code",
   "execution_count": 13,
   "metadata": {},
   "outputs": [],
   "source": [
    "# initialisation\n",
    "import numpy as np\n",
    "from IPython.display import display, Math, Latex\n",
    "import matplotlib.pyplot as plt\n",
    "from scipy.integrate import odeint\n",
    "plt.style.use('default')\n",
    "plt.rcParams['text.usetex'] = True                # paramètres latex\n",
    "plt.rcParams['text.latex.preamble'] = '\\\\usepackage{libertine}'\n",
    "plt.rcParams.update({\n",
    "    \"text.usetex\": True,\n",
    "    \"font.family\": \"Times New Roman\",\n",
    "    \"font.size\": 12\n",
    "})"
   ]
  },
  {
   "cell_type": "markdown",
   "metadata": {},
   "source": [
    "# Solveur des l'équation différentielle de la courbe de remous"
   ]
  },
  {
   "cell_type": "markdown",
   "metadata": {},
   "source": [
    "Supposons que l'on veuille étudier la courbe de remous dans un canal avec les caractéristiques suivantes : pente $i=0{,}1$ % ; longueur $L=10$ km ; débit par unité de largeur $q=10$  $\\mathrm{m}^2\\cdot\\mathrm{s}^{-1}$. La condition aux limites est $h_0=4$ m. Le régime est probablement subcritique, donc la condition aux limites doit être fixée à l'aval."
   ]
  },
  {
   "cell_type": "markdown",
   "metadata": {},
   "source": [
    "L'équation de la courbe de remous est ici l'équation de Bresse, une équation différentielle non linéaire du premier ordre en $h$ :\n",
    "$$\n",
    "\\frac{\\mathrm{d} h}{\\mathrm{d} x}=\\frac{j-i}{\\mathrm{Fr}^2-1}=\\frac{N(h)}{D(h)}=i\\frac{ (h_n/h)^{10/3}-1}{ (h_c/h)^3-1}\n",
    "$$\n",
    "avec :\n",
    "* $j$ : pente de frottement\n",
    "* $i$ : pente du fond\n",
    "* $\\mathrm{Fr}$ : nombre de Froude\n",
    "* $h_n$ : hauteur normale\n",
    "* $h_c$ : hauteur critique\n",
    "\n",
    "Avec Python, on se sert de la commande *odeint* de la librairie scipy."
   ]
  },
  {
   "cell_type": "code",
   "execution_count": 3,
   "metadata": {},
   "outputs": [
    {
     "name": "stdout",
     "output_type": "stream",
     "text": [
      "Hauteur normale : 3.46 m\n",
      "Hauteur critique : 2.17 m\n",
      "Froude à l'entrée : 0.4\n",
      "Froude asymptotique : 0.5\n"
     ]
    }
   ],
   "source": [
    "# paramètres généraux\n",
    "# gravité\n",
    "g = 9.81\n",
    "# débit par unité de largeur\n",
    "q = 10\n",
    "# Manning--Strickler\n",
    "K = 40\n",
    "\n",
    "# paramètres du bief\n",
    "i = 0.001\n",
    "h0 = 4\n",
    "L = 10000\n",
    "\n",
    "## calcul des conditions hydrauliques dans le bief\n",
    "hn = (q / K / np.sqrt(i)) ** (3/5)\n",
    "Frn = q / hn ** 1.5 / np.sqrt(g)\n",
    "hc = (q ** 2 / 9.81) ** (1 / 3)\n",
    "Fr = q / h0 ** 1.5 / np.sqrt(g)\n",
    "\n",
    "print(\"Hauteur normale :\",f\"{hn:.3} m\")\n",
    "print(\"Hauteur critique :\",f\"{hc:.3} m\")\n",
    "print(\"Froude à l'entrée :\",f\"{Fr:.2}\")\n",
    "print(\"Froude asymptotique :\",f\"{Frn:.2}\")"
   ]
  },
  {
   "cell_type": "markdown",
   "metadata": {},
   "source": [
    "On prend garde qu'on intègre de la droite vers la gauche, et il faut donc générer une grille allant dans le sens inverse au sens usuel."
   ]
  },
  {
   "cell_type": "code",
   "execution_count": 16,
   "metadata": {},
   "outputs": [
    {
     "data": {
      "text/plain": [
       "<matplotlib.legend.Legend at 0x7f942dd717f0>"
      ]
     },
     "execution_count": 16,
     "metadata": {},
     "output_type": "execute_result"
    },
    {
     "data": {
      "image/png": "[encoded data removed]",
      "text/plain": [
       "<Figure size 1200x400 with 1 Axes>"
      ]
     },
     "metadata": {},
     "output_type": "display_data"
    }
   ],
   "source": [
    "# définition de la fonction de Bresse\n",
    "def bresse(h,x, slope, hn, hc):\n",
    "    dhdx = slope * (1 - (hn / h) ** (10./3.)) / (1 - (hc / h) ** 3.)\n",
    "    return dhdx\n",
    "\n",
    "# grille\n",
    "x = np.linspace(10000,0,100)\n",
    "\n",
    "#solution\n",
    "sol = odeint(bresse,h0,x,args=(i,hn,hc))\n",
    "\n",
    "# tracer les résultats\n",
    "\n",
    "fig, ax = plt.subplots(figsize=(12,4))\n",
    " \n",
    "ax.set_ylabel(r'$h(x) (m)$')\n",
    "ax.set_xlabel(r'$x$ (m)')\n",
    "\n",
    "\n",
    "ax.plot(x,sol,'k-',label=r'$h(x)$')\n",
    "ax.grid()\n",
    "ax.plot(x,hc*np.ones(len(x)),'r--',label=r'$h_c$')\n",
    "ax.plot(x,hn*np.ones(len(x)),'g-.',label=r'$h_n$')\n",
    "ax.set_ylim((0, 4))\n",
    "fig.legend(loc=\"upper left\",ncol=3,frameon=False)"
   ]
  },
  {
   "cell_type": "markdown",
   "metadata": {},
   "source": [
    "Comme on pouvait s'y attendre, la solution tend vers la hauteur normale."
   ]
  },
  {
   "cell_type": "markdown",
   "metadata": {},
   "source": []
  }
 ],
 "metadata": {
  "kernelspec": {
   "display_name": "python3.12",
   "language": "python",
   "name": "python3"
  },
  "language_info": {
   "codemirror_mode": {
    "name": "ipython",
    "version": 3
   },
   "file_extension": ".py",
   "mimetype": "text/x-python",
   "name": "python",
   "nbconvert_exporter": "python",
   "pygments_lexer": "ipython3",
   "version": "3.12.3"
  }
 },
 "nbformat": 4,
 "nbformat_minor": 2
}
